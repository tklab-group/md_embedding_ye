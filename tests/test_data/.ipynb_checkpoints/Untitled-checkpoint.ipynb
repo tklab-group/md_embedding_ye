{
 "cells": [
  {
   "cell_type": "code",
   "execution_count": null,
   "id": "5d3f02a7-d574-4886-8a23-54779699292f",
   "metadata": {},
   "outputs": [],
   "source": [
    "import sys\n",
    "sys.path.append('../../')\n",
    "from data.data_divider import DataDivider\n",
    "from data.util import get_module_data, get_method_map\n",
    "\n",
    "\n",
    "def build_word_id_map(method_map):\n",
    "    word_to_id = {}\n",
    "    id_to_word = {}\n",
    "    for i in range(len(method_map)):\n",
    "        word = method_map[i]['item']\n",
    "        word_id = method_map[i]['index']\n",
    "        word_to_id[word] = word_id\n",
    "        id_to_word[word_id] = word\n",
    "    return word_to_id, id_to_word\n",
    "\n",
    "\n",
    "git_name = 'LCExtractor'\n",
    "module_data = get_module_data(git_name)\n",
    "# method_map = get_method_map(git_name)\n",
    "my_word_to_id, my_id_to_word = build_word_id_map(get_method_map(git_name))\n",
    "# print(module_data)\n",
    "# print(my_word_to_id)\n",
    "# print(my_id_to_word)\n",
    "# print(method_map)\n",
    "print('size', len(module_data))\n",
    "for i in range(len(module_data)):\n",
    "    module_data_list = module_data[i]['list']\n",
    "    show_array = []\n",
    "    for j in range(len(module_data_list)):\n",
    "        item = module_data_list[j]\n",
    "        show_array.append(my_id_to_word[item])\n",
    "    print(show_array)"
   ]
  }
 ],
 "metadata": {
  "kernelspec": {
   "display_name": "Python 3",
   "language": "python",
   "name": "python3"
  },
  "language_info": {
   "codemirror_mode": {
    "name": "ipython",
    "version": 3
   },
   "file_extension": ".py",
   "mimetype": "text/x-python",
   "name": "python",
   "nbconvert_exporter": "python",
   "pygments_lexer": "ipython3",
   "version": "3.6.9"
  }
 },
 "nbformat": 4,
 "nbformat_minor": 5
}
